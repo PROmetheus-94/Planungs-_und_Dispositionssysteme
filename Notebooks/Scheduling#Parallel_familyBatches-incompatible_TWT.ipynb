{
 "cells": [
  {
   "cell_type": "code",
   "execution_count": 11,
   "metadata": {},
   "outputs": [
    {
     "name": "stdout",
     "output_type": "stream",
     "text": [
      "Family processing times:\n",
      "[19, 10, 9, 12, 6, 2, 14, 7, 13, 19, 19]\n",
      "Number of machines:\n",
      "14\n",
      "Number of jobs:\n",
      "58\n"
     ]
    }
   ],
   "source": [
    "import random\n",
    "from scheduling_lib import Job, Batch, BatchMachine\n",
    "\n",
    "BATCH_SIZE = 5\n",
    "MIN_FAMILIES = 5\n",
    "MAX_FAMILIES = 25\n",
    "MIN_PROCESSING_TIME = 2\n",
    "MAX_PROCESSING_TIME = 20\n",
    "MAX_WEIGHT = 10\n",
    "MIN_JOBS = 50\n",
    "MAX_JOBS = 500\n",
    "MIN_DUE_DATE = 1\n",
    "MAX_DUE_DATE = 30\n",
    "MAX_MACHINES = 20\n",
    "\n",
    "# Generate random data\n",
    "# list of family processing times\n",
    "p_f = [random.randint(MIN_PROCESSING_TIME, MAX_PROCESSING_TIME) for i in range(random.randint(MIN_FAMILIES, MAX_FAMILIES))]\n",
    "print(\"Family processing times:\\n\" + str(p_f))\n",
    "\n",
    "# list of machines\n",
    "machines = [BatchMachine() for i in range(random.randint(1, MAX_MACHINES))]\n",
    "print(\"Number of machines:\\n\" + str(len(machines)))\n",
    "\n",
    "# list of jobs\n",
    "jobs = [Job(family=random.randint(0, len(p_f) - 1), weight=random.randint(1, MAX_WEIGHT), due_date=random.randint(MIN_DUE_DATE, MAX_DUE_DATE)) for i in range(random.randint(MIN_JOBS, MAX_JOBS))]\n",
    "print(\"Number of jobs:\\n\" + str(len(jobs)))"
   ]
  },
  {
   "attachments": {},
   "cell_type": "markdown",
   "metadata": {},
   "source": [
    "TWT Funktion: $\\sum_{j=1}^n w_j T_j = \\sum_{j=1}^n w_j \\max\\{C_j - d_j; 0\\}$"
   ]
  },
  {
   "cell_type": "code",
   "execution_count": 12,
   "metadata": {},
   "outputs": [],
   "source": [
    "# Function to get the family of a job\n",
    "def s(j: Job) -> int:\n",
    "    return j.f"
   ]
  },
  {
   "cell_type": "code",
   "execution_count": 13,
   "metadata": {},
   "outputs": [],
   "source": [
    "def twt(jobs: list[Job]) -> int:\n",
    "    return sum(job.w * max(job.C - job.d, 0) for job in jobs)"
   ]
  },
  {
   "cell_type": "code",
   "execution_count": 14,
   "metadata": {},
   "outputs": [],
   "source": [
    "from math import exp\n",
    "\n",
    "\n",
    "def atc(job: Job, p_avg: float, t: int, kappa: int) -> int:\n",
    "    return (job.w / p_f[s(job)]) * kappa * exp(-(max(job.d - p_f[s(job)] - t, 0))/(kappa * p_avg))"
   ]
  },
  {
   "attachments": {},
   "cell_type": "markdown",
   "metadata": {},
   "source": [
    "Eröffnungsheuristik: ATC-BATC-Heuristic"
   ]
  },
  {
   "cell_type": "code",
   "execution_count": 15,
   "metadata": {},
   "outputs": [
    {
     "ename": "KeyboardInterrupt",
     "evalue": "",
     "output_type": "error",
     "traceback": [
      "\u001b[0;31m---------------------------------------------------------------------------\u001b[0m",
      "\u001b[0;31mKeyboardInterrupt\u001b[0m                         Traceback (most recent call last)",
      "Cell \u001b[0;32mIn[15], line 28\u001b[0m\n\u001b[1;32m     26\u001b[0m \u001b[39mfor\u001b[39;00m job \u001b[39min\u001b[39;00m temp_jobs:\n\u001b[1;32m     27\u001b[0m     job\u001b[39m.\u001b[39mset_metrics({\u001b[39m\"\u001b[39m\u001b[39matc\u001b[39m\u001b[39m\"\u001b[39m: atc(job, p_avg, t, kappa)})\n\u001b[0;32m---> 28\u001b[0m temp_jobs\u001b[39m.\u001b[39;49msort(\n\u001b[1;32m     29\u001b[0m     key \u001b[39m=\u001b[39;49m \u001b[39mlambda\u001b[39;49;00m job: job\u001b[39m.\u001b[39;49mget_metrics()[\u001b[39m\"\u001b[39;49m\u001b[39matc\u001b[39;49m\u001b[39m\"\u001b[39;49m],\n\u001b[1;32m     30\u001b[0m     reverse \u001b[39m=\u001b[39;49m \u001b[39mTrue\u001b[39;49;00m\n\u001b[1;32m     31\u001b[0m )\n\u001b[1;32m     32\u001b[0m \u001b[39m# get jobs of families that are currently not in a batch\u001b[39;00m\n\u001b[1;32m     33\u001b[0m allocated_families \u001b[39m=\u001b[39m [machine\u001b[39m.\u001b[39mbatch\u001b[39m.\u001b[39mfamily \u001b[39mfor\u001b[39;00m machine \u001b[39min\u001b[39;00m temp_machines \u001b[39mif\u001b[39;00m \u001b[39mnot\u001b[39;00m machine\u001b[39m.\u001b[39mis_idle()]\n",
      "Cell \u001b[0;32mIn[15], line 29\u001b[0m, in \u001b[0;36m<lambda>\u001b[0;34m(job)\u001b[0m\n\u001b[1;32m     26\u001b[0m \u001b[39mfor\u001b[39;00m job \u001b[39min\u001b[39;00m temp_jobs:\n\u001b[1;32m     27\u001b[0m     job\u001b[39m.\u001b[39mset_metrics({\u001b[39m\"\u001b[39m\u001b[39matc\u001b[39m\u001b[39m\"\u001b[39m: atc(job, p_avg, t, kappa)})\n\u001b[1;32m     28\u001b[0m temp_jobs\u001b[39m.\u001b[39msort(\n\u001b[0;32m---> 29\u001b[0m     key \u001b[39m=\u001b[39m \u001b[39mlambda\u001b[39;00m job: job\u001b[39m.\u001b[39mget_metrics()[\u001b[39m\"\u001b[39m\u001b[39matc\u001b[39m\u001b[39m\"\u001b[39m],\n\u001b[1;32m     30\u001b[0m     reverse \u001b[39m=\u001b[39m \u001b[39mTrue\u001b[39;00m\n\u001b[1;32m     31\u001b[0m )\n\u001b[1;32m     32\u001b[0m \u001b[39m# get jobs of families that are currently not in a batch\u001b[39;00m\n\u001b[1;32m     33\u001b[0m allocated_families \u001b[39m=\u001b[39m [machine\u001b[39m.\u001b[39mbatch\u001b[39m.\u001b[39mfamily \u001b[39mfor\u001b[39;00m machine \u001b[39min\u001b[39;00m temp_machines \u001b[39mif\u001b[39;00m \u001b[39mnot\u001b[39;00m machine\u001b[39m.\u001b[39mis_idle()]\n",
      "\u001b[0;31mKeyboardInterrupt\u001b[0m: "
     ]
    }
   ],
   "source": [
    "from statistics import mean\n",
    "from pprint import pprint\n",
    "\n",
    "schedule = list()\n",
    "\n",
    "# iterate over different values of kappa\n",
    "for kappa in [0.5 * l for l in range(1, 11)]:\n",
    "    # get a copy of the machines, jobs and schedule to not modify the original data while tuning kappa\n",
    "    temp_machines = machines.copy()\n",
    "    temp_jobs = jobs.copy()\n",
    "    temp_schedule = list()\n",
    "    top_twt = None\n",
    "    top_kappa = None\n",
    "    # start time\n",
    "    t = 0\n",
    "    # iterate over the jobs\n",
    "    while len(temp_jobs) > 0:\n",
    "        # remove all batches that are finished from the machines\n",
    "        for machine in temp_machines: machine.update(t)\n",
    "        # check if there are machines that are not allocated to a batch\n",
    "        allocatable_machines = [machine for machine in temp_machines if machine.is_idle()]\n",
    "        # iterate over the free machines\n",
    "        while len(allocatable_machines) > 0 and len(temp_jobs) > 0:\n",
    "            # sort all remaining jobs by their ATC value descending\n",
    "            p_avg = mean([p_f[s(job)] for job in temp_jobs])\n",
    "            for job in temp_jobs:\n",
    "                job.set_metrics({\"atc\": atc(job, p_avg, t, kappa)})\n",
    "            temp_jobs.sort(\n",
    "                key = lambda job: job.get_metrics()[\"atc\"],\n",
    "                reverse = True\n",
    "            )\n",
    "            # get jobs of families that are currently not in a batch\n",
    "            allocated_families = [machine.batch.family for machine in temp_machines if not machine.is_idle()]\n",
    "            allocatable_families = [i for i in range(len(p_f)) if i not in allocated_families]\n",
    "            # create batches per family by picking the best jobs by ATC Index\n",
    "            allocatable_batches = list()\n",
    "            for family in allocatable_families:\n",
    "                family_batch = Batch()\n",
    "                family_batch.family = family\n",
    "                # get all remaining jobs of the family\n",
    "                family_jobs = [job for job in temp_jobs if s(job) == family]\n",
    "                # select min(remaining jobs in family, BATCH_SIZE) jobs of the family\n",
    "                family_batch.jobs = family_jobs[:min(len(family_jobs), BATCH_SIZE)]\n",
    "                family_batch.set_metrics({\"batc\": sum([job.get_metrics()[\"atc\"] for job in family_batch.jobs])})\n",
    "                allocatable_batches.append(family_batch)\n",
    "            # skip if there are no batches to allocate\n",
    "            if len(allocatable_batches) == 0:\n",
    "                continue\n",
    "            # sort the batches by their BATC value descending\n",
    "            allocatable_batches.sort(\n",
    "                key = lambda batch: batch.get_metrics()[\"batc\"],\n",
    "                reverse = True\n",
    "            )\n",
    "            # chose the best batch, add its completion time and allocate it to the first available machine\n",
    "            top_batch = allocatable_batches[0]\n",
    "            top_batch.C = t + p_f[top_batch.family]\n",
    "            allocatable_machines[0].batch = top_batch\n",
    "            for job in top_batch.jobs:\n",
    "                job.C = top_batch.C\n",
    "                temp_jobs.remove(job)\n",
    "                temp_schedule.append({\"job\": job, \"machine\": temp_machines.index(allocatable_machines[0]), \"start\": t, \"end\": top_batch.C})\n",
    "            allocatable_machines = [machine for machine in temp_machines if machine.batch is None]\n",
    "        # increment time\n",
    "        t += 1\n",
    "    # get the TWT of the schedule\n",
    "    temp_twt = twt([entry[\"job\"] for entry in temp_schedule])\n",
    "    print(\"kappa: \" + str(kappa) + \", TWT: \" + str(temp_twt))\n",
    "    if top_twt is None or temp_twt < top_twt:\n",
    "        schedule = temp_schedule\n",
    "        top_twt = temp_twt\n",
    "        top_kappa = kappa\n",
    "        \n"
   ]
  }
 ],
 "metadata": {
  "kernelspec": {
   "display_name": "analytics",
   "language": "python",
   "name": "python3"
  },
  "language_info": {
   "codemirror_mode": {
    "name": "ipython",
    "version": 3
   },
   "file_extension": ".py",
   "mimetype": "text/x-python",
   "name": "python",
   "nbconvert_exporter": "python",
   "pygments_lexer": "ipython3",
   "version": "3.10.9"
  },
  "orig_nbformat": 4,
  "vscode": {
   "interpreter": {
    "hash": "95be8169a8323c0ccfec358b7f63d50743cd7f3a49c258a51134036d81497b07"
   }
  }
 },
 "nbformat": 4,
 "nbformat_minor": 2
}
